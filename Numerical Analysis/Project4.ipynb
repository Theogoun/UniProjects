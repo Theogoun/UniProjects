{
 "cells": [
  {
   "cell_type": "markdown",
   "metadata": {},
   "source": [
    "# Αριθμητική Ανάλυση\n",
    "## Εργασία 4: Παραγώγιση και ολοκλήρωση\n",
    "\n",
    "### Σημαντικές σημειώσεις\n",
    "\n",
    "- Όι ζητούμενες συναρτήσεις δεν πρέπει έχουν αναφορές σε global μεταβλητές εκτός από σταθερές καθιερωμένων μονάδων κώδικα (π.χ numpy.pi).\n",
    "- Ο αριθμός μητρώου πρέπει να είναι σύμφωνος με αυτόν που έχει δηλωθεί στο προφίλ του eclass.\n",
    "- Όπου χρησιμοποιούνται ψηφία του αριθμού μητρώου, πρέπει να είναι απευθείας δηλωμένα στον κώδικα (hard-coded) και όχι να εξάγονται από τον ΑΜ.\n",
    "- Το αρχείο της εργασίας πρέπει να τρέχει εξ ολοκλήρου (Run All) για να βαθμολογηθεί.\n"
   ]
  },
  {
   "cell_type": "markdown",
   "metadata": {},
   "source": []
  },
  {
   "cell_type": "code",
   "execution_count": 1,
   "metadata": {
    "tags": [
     "imports"
    ]
   },
   "outputs": [],
   "source": [
    "# Εισαγωγή μονάδων κώδικα\n",
    "# - Μην αλλάζετε αυτό το κελί.\n",
    "\n",
    "import numpy as np\n",
    "import matplotlib.pyplot as plt\n",
    "from scipy.integrate import trapezoid\n",
    "from scipy.integrate import simpson\n"
   ]
  },
  {
   "cell_type": "code",
   "execution_count": 2,
   "metadata": {},
   "outputs": [],
   "source": [
    "# Στοιχεία φοιτητή\n",
    "# - Εισάγετε το όνομά σας με ελληνικούς χαρακτήρες.\n",
    "\n",
    "onoma = \"ΘΕΟΔΩΡΟΣ-ΚΟΣΜΑΣ\"\n",
    "eponymo = \"ΓΟΥΝΕΛΑΣ\"\n",
    "AM = 3121207\n"
   ]
  },
  {
   "cell_type": "markdown",
   "metadata": {},
   "source": [
    "### Άσκηση 1\n",
    "\n",
    "Για την έγκριση της κυκλοφορίας ενός επιβατηγού οχήματος στην Ευρωπαϊκή Ένωση γίνονται μετρήσεις σύμφωνα με τον [οδικό κύκλο WLTP](https://el.wikipedia.org/wiki/WLTP). Παρακάτω φαίνεται ένα μέρος του κύκλου με τροποποιήσεις a,b και c, οι οποίες αντιστοιχούν στα 3 τελευταία ψηφία του αριθμού μητρώου σας (c=τελευταίο).\n",
    "\n",
    "|t [s]|u  [km/h]|\n",
    "|---|---|\n",
    "|10|0.0|\n",
    "|12|0.2|\n",
    "|14|5.4+a/5|\n",
    "|16|13.1+a/5|\n",
    "|18|21.7|\n",
    "|20|27.5|\n",
    "|22|28.3|\n",
    "|24|29.1|\n",
    "|26|31.9|\n",
    "|28|36.6|\n",
    "|30|41.3|\n",
    "|32|43.3|\n",
    "|34|44.4|\n",
    "|36|44.2+b/3|\n",
    "|38|39.9+b/3|\n",
    "|40|34.6+c/3|\n",
    "|42|29.0+c/3|\n",
    "|44|22.2|\n",
    "|46|20.9|\n",
    "|...|...|\n",
    "\n",
    "Γράψτε μια συνάρτηση με το όνομα `myfunction1` που υπολογίζει την απόσταση ($m$) και την μέση ταχύτητα ($m/s$) από ένα τμήμα του πίνακα ξεκινώντας από τον χρόνο $t_0=10s$.\n",
    "\n",
    "$$Δs=\\int_{t_0}^{t_f}u dt$$\n",
    "\n",
    "$$\\bar{u}=\\frac{Δs}{t_f-t_0}\\$$\n",
    "\n",
    "Ο υπολογισμός να γίνει δύο φορές χρησιμοποιώντας:\n",
    "1) μέθοδο του τραπεζίου και\n",
    "2) κανόνα 1/3 του Simpson.\n",
    "\n",
    "Η συνάρτηση πρέπει να δέχεται ως είσοδο το πλήθος $n$ των πρώτων γραμμών του πίνακα που θα χρησιμοποιηθεί στους υπολογισμούς και να επιστρέφει ένα διάνυσμα $[Δs_{trap},\\bar{u}_{trap},Δs_{simp},\\bar{u}_{simp}]$.  \n",
    " \n",
    "Ελέγξτε τα αποτελέσματα της συνάρτησης για τις τιμές του $n$:\n",
    "- 10\n",
    "- 19\n",
    "\n",
    "Δώστε προσοχή στην μονάδες του πίνακα και τις μονάδες που ζητούνται στα αποτελέσματα.\n"
   ]
  },
  {
   "cell_type": "code",
   "execution_count": 3,
   "metadata": {},
   "outputs": [],
   "source": [
    "# Λύση της άσκησης 1\n",
    "# - Σε αυτό το κελί γράψτε μόνο τις ζητούμενες συναρτήσεις χωρίς print και input.\n",
    "def myfunction1(n):\n",
    "    a = int(str(AM)[-3])\n",
    "    b = int(str(AM)[-2])\n",
    "    c = int(str(AM)[-1])\n",
    "\n",
    "    t = [10, 12, 14, 16, 18, 20, 22, 24, 26, 28, 30, 32, 34, 36, 38, 40, 42, 44, 46]\n",
    "    u = [0.0, 0.2, 5.4 + a/5, 13.1 + a/5, 21.7, 27.5, 28.3, 29.1, 31.9, 36.6, 41.3, 43.3, 44.4, 44.2 + b/3, 39.9 + b/3, 34.6 + c/3, 29.0 + c/3, 22.2, 20.9]\n",
    "    u_mps = [speed * (1000 / 3600) for speed in u]\n",
    "\n",
    "    tf = t[n-1]\n",
    "    t0 = t[0]\n",
    "    dt = (tf - t0) / (n - 1)  # Calculate the interval width\n",
    "    \n",
    "    # trapezoid\n",
    "    Δs_trap = trapezoid(u_mps[:n], dx=dt)\n",
    "    u_avg_trap = Δs_trap / (tf - t0)\n",
    "    \n",
    "    # simpson\n",
    "    Δs_simp = simpson(u_mps[:n], dx=dt)\n",
    "    u_avg_simp = Δs_simp / (tf - t0)\n",
    "    \n",
    "    return [Δs_trap, u_avg_trap, Δs_simp, u_avg_simp]"
   ]
  },
  {
   "cell_type": "code",
   "execution_count": 4,
   "metadata": {
    "tags": [
     "worksheet"
    ]
   },
   "outputs": [
    {
     "name": "stdout",
     "output_type": "stream",
     "text": [
      "[97.94444444444446, 5.441358024691358, 97.58796296296296, 5.421553497942387]\n",
      "[282.56481481481484, 7.849022633744856, 282.27777777777777, 7.841049382716049]\n"
     ]
    }
   ],
   "source": [
    "# Πρόχειρο άσκησης 1\n",
    "# - Σε αυτό το κελί μπορείτε να τυπώσετε μεταβλητές και να κάνετε γραφικές παραστάσεις για επαλήθευση. Δεν λαμβάνεται υπόψη στην βαθμολόγηση.\n",
    "print(myfunction1(10))\n",
    "print(myfunction1(19))"
   ]
  },
  {
   "cell_type": "markdown",
   "metadata": {},
   "source": [
    "### Άσκηση 2\n",
    "\n",
    "Χρησιμοποιώντας τον ίδιο πίνακα γράψτε μια συνάρτηση `myfunction2`, η οποία υπολογίζει την χρονοσειρά της επιτάχυνσης $a$ ($m/s^2$) για τμήμα του πίνακα ξεκινώντας από τον χρόνο $t_0=10s$:\n",
    "\n",
    "$$a=\\frac{du}{dt}$$ \n",
    "\n",
    "Στο αρχικό σημείο χρησιμοποιήστε προς τα εμπρός διαφορά, στο τελικό προς τα πίσω διαφορά και στα ενδιάμεσα κεντρικές διαφορές. Στην συνέχεια υπολογίστε την μέγιστη και ελάχιστη επιτάχυνση ($a_{max}$ και $a_{min}$ αντίστοιχα). \n",
    "\n",
    "Η συνάρτηση πρέπει να δέχεται ως είσοδο το πλήθος $n$ των πρώτων γραμμών του πίνακα που θα χρησιμοποιηθεί στους υπολογισμούς και να επιστρέφει ένα διάνυσμα $[a_{max},a_{min}]$.\n",
    "\n",
    "Ελέγξτε τα αποτελέσματα της συνάρτησης για τις τιμές του $n$:\n",
    "- 10\n",
    "- 19\n",
    "\n",
    "Δώστε προσοχή στην μονάδες του πίνακα και τις μονάδες που ζητούνται στα αποτελέσματα. Η αρνητική επιτάχυνση είναι αποδεκτή και ισοδυναμεί με επιβράδυνση."
   ]
  },
  {
   "cell_type": "code",
   "execution_count": 5,
   "metadata": {},
   "outputs": [],
   "source": [
    "# Λύση της άσκησης 2\n",
    "# - Σε αυτό το κελί γράψτε μόνο τις ζητούμενες συναρτήσεις χωρίς print και input.\n",
    "def myfunction2(n):\n",
    "    t = [10, 12, 14, 16, 18, 20, 22, 24, 26, 28, 30, 32, 34, 36, 38, 40, 42, 44, 46]\n",
    "    u = [0.0, 0.2, 5.4 + int(str(AM)[-3])/5, 13.1 + int(str(AM)[-3])/5, 21.7, 27.5, 28.3, 29.1, 31.9, 36.6, 41.3, 43.3, 44.4, 44.2 + int(str(AM)[-2])/3, 39.9 + int(str(AM)[-2])/3, 34.6 + int(str(AM)[-1])/3, 29.0 + int(str(AM)[-1])/3, 22.2, 20.9]\n",
    "    u_mps = [speed * (1000 / 3600) for speed in u]\n",
    "\n",
    "    a = []\n",
    "    for i in range(n):\n",
    "        if i == 0:\n",
    "            a.append((u_mps[i+1] - u_mps[i]) / (t[i+1] - t[i]))  # Forward difference\n",
    "        elif i == n-1:\n",
    "            a.append((u_mps[i] - u_mps[i-1]) / (t[i] - t[i-1]))  # Backward difference\n",
    "        else:\n",
    "            a.append((u_mps[i+1] - u_mps[i-1]) / (t[i+1] - t[i-1]))  # Central difference\n",
    "    \n",
    "    a_max = max(a)\n",
    "    a_min = min(a)\n",
    "    \n",
    "    return [a_max, a_min]"
   ]
  },
  {
   "cell_type": "code",
   "execution_count": 6,
   "metadata": {
    "tags": [
     "worksheet"
    ]
   },
   "outputs": [
    {
     "name": "stdout",
     "output_type": "stream",
     "text": [
      "[1.1041666666666665, 0.02777777777777778]\n",
      "[1.1041666666666665, -1.0231481481481486]\n"
     ]
    }
   ],
   "source": [
    "# Πρόχειρο άσκησης 2\n",
    "# - Σε αυτό το κελί μπορείτε να τυπώσετε μεταβλητές και να κάνετε γραφικές παραστάσεις για επαλήθευση. Δεν λαμβάνεται υπόψη στην βαθμολόγηση.\n",
    "print(myfunction2(10))\n",
    "print(myfunction2(19))\n"
   ]
  }
 ],
 "metadata": {
  "kernelspec": {
   "display_name": "Python 3.10.12 64-bit",
   "language": "python",
   "name": "python3"
  },
  "language_info": {
   "codemirror_mode": {
    "name": "ipython",
    "version": 3
   },
   "file_extension": ".py",
   "mimetype": "text/x-python",
   "name": "python",
   "nbconvert_exporter": "python",
   "pygments_lexer": "ipython3",
   "version": "3.10.12"
  },
  "varInspector": {
   "cols": {
    "lenName": 16,
    "lenType": 16,
    "lenVar": 40
   },
   "kernels_config": {
    "python": {
     "delete_cmd_postfix": "",
     "delete_cmd_prefix": "del ",
     "library": "var_list.py",
     "varRefreshCmd": "print(var_dic_list())"
    },
    "r": {
     "delete_cmd_postfix": ") ",
     "delete_cmd_prefix": "rm(",
     "library": "var_list.r",
     "varRefreshCmd": "cat(var_dic_list()) "
    }
   },
   "types_to_exclude": [
    "module",
    "function",
    "builtin_function_or_method",
    "instance",
    "_Feature"
   ],
   "window_display": false
  },
  "vscode": {
   "interpreter": {
    "hash": "916dbcbb3f70747c44a77c7bcd40155683ae19c65e1c03b4aa3499c5328201f1"
   }
  }
 },
 "nbformat": 4,
 "nbformat_minor": 4
}
