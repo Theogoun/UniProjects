{
 "cells": [
  {
   "cell_type": "markdown",
   "metadata": {},
   "source": [
    "# Αριθμητική Ανάλυση\n",
    "## Εργασία 2"
   ]
  },
  {
   "cell_type": "code",
   "execution_count": 1,
   "metadata": {
    "tags": [
     "imports"
    ]
   },
   "outputs": [],
   "source": [
    "# Εισαγωγή μονάδων κώδικα\n",
    "# - Μην αλλάζετε αυτό το κελί.\n",
    "\n",
    "import numpy as np\n",
    "import matplotlib.pyplot as plt"
   ]
  },
  {
   "cell_type": "code",
   "execution_count": 2,
   "metadata": {},
   "outputs": [],
   "source": [
    "# Στοιχεία φοιτητή\n",
    "# - Εισάγετε το όνομά σας με ελληνικούς χαρακτήρες.\n",
    "\n",
    "onoma = \"ΘΕΟΔΩΡΟΣ-ΚΟΣΜΑΣ\"\n",
    "eponymo = \"ΓΟΥΝΕΛΑΣ\"\n",
    "AM = 3121207"
   ]
  },
  {
   "cell_type": "markdown",
   "metadata": {},
   "source": [
    "### Άσκηση 1\n",
    "Γράψτε μια συνάρτηση με το όνομα `myfunction1` που δέχεται ως όρισμα ενα διάνυσμα $C=[c_a,c_b,c_c]$ με τις 3 παραμέτρους ενός τριωνύμου $c_a x^2+c_b x+c_c$ και επιστρέφει ένα διάνυσμα με δύο στοιχεία που αντιστοιχούν στις ρίζες. Σε περίπτωση που το τριώνυμο απλοποιείται σε εξίσωση πρώτου βαθμού, το δεύτερο στοιχείο πρέπει να είναι $NaN$. Σε περίπτωση που δεν υπάρχουν πραγματικές ρίζες ή η εξίσωση είναι αδύνατη, η συνάρτηση πρέπει να επιστρέφει $NaN$ και στις δύο τιμές.\n",
    " \n",
    "Ελέγξτε τα αποτελέσματα της συνάρτησης για τα τριώνυμα:\n",
    "$$\n",
    "\\begin{split}\n",
    "\\begin{aligned}\n",
    "(a+1)&x^2&+(b+1) x&+(c+10)\\\\\n",
    "(a+1)&x^2&+(b+1) x&-(c+1)\\\\\n",
    "0&x^2&+(b+1) x&+(c+1)\n",
    "\\end{aligned}\n",
    "\\end{split}\n",
    "$$\n",
    "όπου a,b,c τα 3 τελευταία ψηφία του αριθμού μητρώου σας (c=τελευταίο)."
   ]
  },
  {
   "cell_type": "code",
   "execution_count": 3,
   "metadata": {},
   "outputs": [],
   "source": [
    "# Λύση της άσκησης 1\n",
    "# - Σε αυτό το κελί γράψτε μόνο τις ζητούμενες συναρτήσεις χωρίς print και input.\n",
    "a = int(str(AM)[-3])\n",
    "b = int(str(AM)[-2])\n",
    "c = int(str(AM)[-1])\n",
    "\n",
    "\n",
    "def myfunction1(C):\n",
    "    Ca = C[0]\n",
    "    Cb = C[1]\n",
    "    Cc = C[2]\n",
    "    \n",
    "    if Ca == 0:\n",
    "        # Polynomial is of first degree\n",
    "        root = -Cc / Cb\n",
    "        return [root, np.nan]\n",
    "    # Calculate the discriminant\n",
    "    discriminant = Cb**2 - 4*Ca*Cc\n",
    "    # Check if the equation has real roots\n",
    "    if discriminant > 0:\n",
    "        # Calculate the two roots\n",
    "        root1 = (-Cb + np.sqrt(discriminant)) / (2*Ca)\n",
    "        root2 = (-Cb - np.sqrt(discriminant)) / (2*Ca)\n",
    "        return [root1, root2]\n",
    "    elif discriminant == 0:\n",
    "        # Calculate the single root\n",
    "        root = -Cb / (2*Ca)\n",
    "        return [root, np.nan]\n",
    "    else:\n",
    "        # No real roots\n",
    "        return [np.nan, np.nan]"
   ]
  },
  {
   "cell_type": "code",
   "execution_count": 4,
   "metadata": {
    "tags": [
     "worksheet"
    ]
   },
   "outputs": [
    {
     "name": "stdout",
     "output_type": "stream",
     "text": [
      "[nan, nan]\n",
      "[1.0971675407097272, -2.4305008740430605]\n",
      "[-2.5, nan]\n"
     ]
    }
   ],
   "source": [
    "# Πρόχειρο άσκησης 1\n",
    "# - Σε αυτό το κελί μπορείτε να τυπώσετε μεταβλητές για επαλήθευση. Δεν λαμβάνεται υπόψη στην βαθμολόγηση.\n",
    "print(myfunction1([a+1, b+1, c+10]))\n",
    "print(myfunction1([a+1, b+1, -c+1]))\n",
    "print(myfunction1([0, b+1, c+1]))\n"
   ]
  },
  {
   "cell_type": "markdown",
   "metadata": {},
   "source": [
    "### Άσκηση 2\n",
    "\n",
    "Η μετάδοση θερμότητας εντός ενός μονοδιάστατου τοιχώματος σε συνθήκες μόνιμης κατάστασης δίνεται από την διαφορική εξίσωση: \n",
    "\n",
    "$$\n",
    "\\frac{d}{dx}(k\\frac{dT}{dx})=0\n",
    "$$\n",
    "\n",
    "Σε πρακτικές εφαρμογές χρησιμοποιούνται συχνά οι οριακές συνθήκες:\n",
    "$$\n",
    "\\left. {-k\\frac{dT}{dx}}\\right|_{x=0}=h_{in}(T_{in}-T_{x=0})\\\\\n",
    "\\left. -k\\frac{dT}{dx}\\right|_{x=L}=h_{out}(T_{x=L}-T_{out})\n",
    "$$\n",
    "\n",
    "Το παραπάνω πρόβλημα μπορεί να λυθεί αριθμητικά εφαρμόζοντας πεπερασμένες διαφορές και καταλήγοντας σε ένα γραμμικό σύστημα $n$ εξισώσεων και $n$ άγνωστων θερμοκρασιών που αντιστοιχούν στα σημεία $0,Δx,2Δx,\\dots,L$:\n",
    "\n",
    "$$\n",
    "\\begin{bmatrix}\n",
    "\\frac{k}{Δx}+h_{in} & -\\frac{k}{Δx} & 0 & {\\ldots} & 0 &{\\ldots}& 0 \\\\\n",
    "-\\frac{k}{Δx} & 2\\frac{k}{Δx} & -\\frac{k}{Δx} & {\\ldots} & 0 &{\\ldots}& 0 \\\\\n",
    "0 & -\\frac{k}{Δx} & 2\\frac{k}{Δx} & -\\frac{k}{Δx} & 0 &{\\ldots}& 0 \\\\\n",
    "{\\ldots} &{\\ldots} &{\\ldots} & {\\ldots}&{\\ldots} &{\\ldots}&{\\ldots}\\\\\n",
    "0 & 0 & -\\frac{k}{Δx}& 2\\frac{k}{Δx}& -\\frac{k}{Δx} & 0 &{\\ldots} \\\\\n",
    "{\\ldots} &{\\ldots} &{\\ldots} & {\\ldots}&{\\ldots}&{\\ldots}&{\\ldots} \\\\\n",
    "0& 0 & 0 & {\\ldots}& 0 & -\\frac{k}{Δx} &\\frac{k}{Δx}+h_{out} \\\\\n",
    "\\end{bmatrix}\n",
    "\\begin{bmatrix}\n",
    "T_1\\\\\n",
    "T_2\\\\\n",
    "T_3\\\\\n",
    "{\\ldots}\\\\\n",
    "{T_i}\\\\\n",
    "{\\ldots}\\\\\n",
    "T_n\\\\\n",
    "\\end{bmatrix}\n",
    "=\n",
    "\\begin{bmatrix}\n",
    "h_{in}T_{in}\\\\\n",
    "0\\\\\n",
    "0\\\\\n",
    "{\\ldots}\\\\\n",
    "0\\\\\n",
    "{\\ldots}\\\\\n",
    "h_{out}T_{out}\\\\\n",
    "\\end{bmatrix}\n",
    "$$\n",
    "\n",
    "με\n",
    "- $k$ τον συντελεστή θερμικής αγωγιμότητας του υλικού του τοιχώματος\n",
    "- $Δx=\\frac{L}{n-1}$ το χωρικό βήμα της διακριτοποίησης του πάχους $L$ του τοιχώματος\n",
    "- $h_{in}$ τον συντελεστή συναγωγής στο εσωτερικό\n",
    "- $h_{out}$ τον συντελεστή συναγωγής στο εξωτερικό\n",
    "\n",
    "Γράψτε μια συνάρτηση `myfunction2` που δέχεται ως ορίσματα τα μεγέθη $k,L,h_{in},T_{in},h_{out},T_{out},n$ και επιστρέφει ένα διάνυσμα με τις θερμοκρασίες $[Τ_1,Τ_2,\\dots,T_n]$. Για τον υπολογισμό του διανύσματος μπορεί να επιλεγεί οποιαδήποτε μέθοδος επίλυσης.\n",
    "\n",
    "Ελέγξτε τα αποτελέσματα της συνάρτησης για\n",
    "- $k=1\\quad\\frac{W}{mK}$\n",
    "- $L=0.3+\\frac{a}{45}\\quad m$\n",
    "- $h_{in}=4+\\frac{b}{5}\\quad \\frac{W}{m^2K}$\n",
    "- $T_{in}=21\\quad  °C$\n",
    "- $h_{out}=8\\quad \\frac{W}{m^2K}$\n",
    "- $T_{out}=8-c \\quad °C$\n",
    "- $n=10$\n",
    "\n",
    "Για δικιά σας κατανόηση μπορείτε να κατασκευάσετε γράφημα θερμοκρασίας[°C]-απόστασης[m] με τα σημεία $(0,Τ_1),(Δx,T_2),(2Δx,T_3),\\dots,((n-1)Δx,T_n)$.\n",
    "\n",
    "```\n",
    "Ερώτηση για τις εξετάσεις: Λαμβάνοντας υπόψη την μορφή του πίνακα, ποια μέθοδο επίλυσης θα εφαρμόζατε για να περιορίσετε το υπολογιστικό φορτίο;\n",
    "```"
   ]
  },
  {
   "cell_type": "code",
   "execution_count": 5,
   "metadata": {},
   "outputs": [],
   "source": [
    "# Λύση της άσκησης 2\n",
    "# - Σε αυτό το κελί γράψτε μόνο τις ζητούμενες συναρτήσεις χωρίς print και input.\n",
    "def myfunction2(k, L, h_in, T_in, h_out, T_out, n):\n",
    "    dx = L / (n - 1)\n",
    "    A = np.zeros((n, n))\n",
    "    B = np.zeros(n)\n",
    "\n",
    "    # Fill the coefficient matrix A and the right-hand side vector b\n",
    "    A[0, 0] = k / dx + h_in\n",
    "    A[0, 1] = -k / dx\n",
    "    B[0] = h_in * T_in\n",
    "    for i in range(1, n - 1):\n",
    "        A[i, i - 1] = -k / dx\n",
    "        A[i, i] = 2 * k / dx\n",
    "        A[i, i + 1] = -k / dx\n",
    "    A[-1, -2] = -k / dx\n",
    "    A[-1, -1] = k / dx + h_out\n",
    "    B[-1] = h_out * T_out\n",
    "\n",
    "    # Solve the system\n",
    "    T = np.linalg.solve(A, B)\n",
    "    return T\n"
   ]
  },
  {
   "cell_type": "code",
   "execution_count": 6,
   "metadata": {
    "tags": [
     "worksheet"
    ]
   },
   "outputs": [
    {
     "name": "stdout",
     "output_type": "stream",
     "text": [
      "[14.03675048 12.8108747  11.58499893 10.35912315  9.13324737  7.90737159\n",
      "  6.68149581  5.45562003  4.22974425  3.00386847]\n"
     ]
    },
    {
     "data": {
      "image/png": "[encoded data removed]",
      "text/plain": [
       "<Figure size 640x480 with 1 Axes>"
      ]
     },
     "metadata": {},
     "output_type": "display_data"
    }
   ],
   "source": [
    "# Πρόχειρο άσκησης 2\n",
    "# - Σε αυτό το κελί μπορείτε να τυπώσετε μεταβλητές για επαλήθευση. Δεν λαμβάνεται υπόψη στην βαθμολόγηση.\n",
    "# Test the function\n",
    "k = 1\n",
    "L = 0.3 + a/45\n",
    "h_in = 4 + b/5\n",
    "T_in = 21\n",
    "h_out = 8\n",
    "T_out = 8 - c\n",
    "n = 10\n",
    "\n",
    "T = myfunction2(k, L, h_in, T_in, h_out, T_out, n)\n",
    "print(T)\n",
    "\n",
    "# Plot the results\n",
    "x = np.linspace(0, L, n)\n",
    "plt.plot(x, T)\n",
    "plt.xlabel('Distance [m]')\n",
    "plt.ylabel('Temperature [°C]')\n",
    "plt.grid(True)\n",
    "plt.show()\n"
   ]
  },
  {
   "cell_type": "markdown",
   "metadata": {},
   "source": [
    "### Άσκηση 3\n",
    "Γράψτε μια συνάρτηση `myfunction3` που επιλύει το γραμμικό σύστημα:\n",
    "\n",
    "$$\n",
    "\\begin{bmatrix}\n",
    "3 & -1 & -2\\\\\n",
    "2 & 5 & -3\\\\\n",
    "3 & -2 & 5\n",
    "\\end{bmatrix}\n",
    "\\cdot\n",
    "\\begin{bmatrix} x_1\\\\ x_2\\\\ x_3 \\end{bmatrix}\n",
    "=\n",
    "\\begin{bmatrix} a+1\\\\ b+2\\\\ c+3 \\end{bmatrix}\n",
    "$$\n",
    "όπου a,b,c τα 3 τελευταία ψηφία του αριθμού μητρώου σας (c=τελευταίο).\n",
    "\n",
    "Χρησιμοποιήστε την μέθοδο Gauss-Seidel σταματώντας όταν όλα τα στοιχεία της καινούργιας εκτίμησης αποκλίνουν από την προηγούμενη λιγότερο από $10^{-3}$ κατά απόλυτη τιμή. Η συνάρτηση θα δέχεται ως όρισμα ένα διάνυσμα $x_{init}$ με τις αρχικές τιμές και θα επιστρέφει ένα διάνυσμα 3 στοιχείων $[x_1,x_2,x_3]$ με τα τελικά αποτελέσματα.\n",
    "\n",
    "Ελέγξτε τα αποτελέσματα της συνάρτησης για $x_{init}=[0.,0.,0.]$ και $x_{init}=[100.,100.,100.]$.\n",
    "\n",
    "```\n",
    "Υπόδειξη: Κατά την αντιγραφή πινάκων χρησιμοποιήστε copy(), όταν θέλετε να φυλάξετε τις τιμές και όχι να δημιουργήσετε ένα δείκτη στον ίδιο χώρο μνήμης.\n",
    "```\n",
    "```\n",
    "Ερώτηση για τις εξετάσεις: Ποια διάνυσμα αρχικών τιμών δινει πιο γρήγορη σύγκλιση και γιατί;\n",
    "```"
   ]
  },
  {
   "cell_type": "code",
   "execution_count": 7,
   "metadata": {},
   "outputs": [],
   "source": [
    "# Λύση της άσκησης 3\n",
    "# - Σε αυτό το κελί γράψτε μόνο τις ζητούμενες συναρτήσεις χωρίς print και input.\n",
    "def myfunction3(x_init):\n",
    "    A = np.array([[3, -1, -2], [2, 5, -3], [3, -2, 5]])\n",
    "    B = np.array([a+1, b+2, c+3])\n",
    "    x = x_init.copy()\n",
    "    while True:\n",
    "        x_new = x.copy()\n",
    "        for i in range(A.shape[0]):\n",
    "            s1 = np.dot(A[i, :i], x_new[:i])\n",
    "            s2 = np.dot(A[i, i + 1:], x[i + 1:])\n",
    "            x_new[i] = (B[i] - s1 - s2) / A[i, i]\n",
    "        if np.allclose(x, x_new, rtol=1e-3):\n",
    "            break\n",
    "        x = x_new\n",
    "    return x"
   ]
  },
  {
   "cell_type": "code",
   "execution_count": 8,
   "metadata": {
    "tags": [
     "worksheet"
    ]
   },
   "outputs": [
    {
     "name": "stdout",
     "output_type": "stream",
     "text": [
      "Solution with initial guess [0, 0, 0]: [2.26388992 0.947712   1.42075085]\n",
      "Solution with initial guess [100, 100, 100]: [2.26377051 0.94787368 1.42088716]\n"
     ]
    }
   ],
   "source": [
    "# Πρόχειρο άσκησης 3\n",
    "# - Σε αυτό το κελί μπορείτε να τυπώσετε μεταβλητές για επαλήθευση. Δεν λαμβάνεται υπόψη στην βαθμολόγηση.\n",
    "x_init = np.zeros(3)\n",
    "x = myfunction3(x_init)\n",
    "print('Solution with initial guess [0, 0, 0]:', x)\n",
    "\n",
    "x_init = np.full(3, 100.)\n",
    "x = myfunction3(x_init)\n",
    "print('Solution with initial guess [100, 100, 100]:', x)\n"
   ]
  }
 ],
 "metadata": {
  "kernelspec": {
   "display_name": "Python 3.10.12 64-bit",
   "language": "python",
   "name": "python3"
  },
  "language_info": {
   "codemirror_mode": {
    "name": "ipython",
    "version": 3
   },
   "file_extension": ".py",
   "mimetype": "text/x-python",
   "name": "python",
   "nbconvert_exporter": "python",
   "pygments_lexer": "ipython3",
   "version": "3.10.12"
  },
  "varInspector": {
   "cols": {
    "lenName": 16,
    "lenType": 16,
    "lenVar": 40
   },
   "kernels_config": {
    "python": {
     "delete_cmd_postfix": "",
     "delete_cmd_prefix": "del ",
     "library": "var_list.py",
     "varRefreshCmd": "print(var_dic_list())"
    },
    "r": {
     "delete_cmd_postfix": ") ",
     "delete_cmd_prefix": "rm(",
     "library": "var_list.r",
     "varRefreshCmd": "cat(var_dic_list()) "
    }
   },
   "types_to_exclude": [
    "module",
    "function",
    "builtin_function_or_method",
    "instance",
    "_Feature"
   ],
   "window_display": false
  },
  "vscode": {
   "interpreter": {
    "hash": "916dbcbb3f70747c44a77c7bcd40155683ae19c65e1c03b4aa3499c5328201f1"
   }
  }
 },
 "nbformat": 4,
 "nbformat_minor": 4
}
