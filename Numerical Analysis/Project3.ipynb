{
 "cells": [
  {
   "cell_type": "markdown",
   "metadata": {},
   "source": [
    "# Αριθμητική Ανάλυση\n",
    "## Εργασία 3: Παρεμβολή, παλινδρόμηση, εύρεση ριζών\n",
    "\n",
    "### Σημαντικές σημειώσεις\n",
    "\n",
    "- Όι ζητούμενες συναρτήσεις δεν πρέπει έχουν αναφορές σε global μεταβλητές εκτός από σταθερές καθιερωμένων βιβλιοθηκών (π.χ numpy.pi).\n",
    "- Ο αριθμός μητρώου πρέπει να είναι σύμφωνος με αυτόν που έχει δηλωθεί στο προφίλ του eclass.\n",
    "- Όπου χρησιμοποιούνται ψηφία του αριθμού μητρώου, πρέπει να είναι απευθείας δηλωμένα στον κώδικα (hard-coded) και όχι να εξάγονται από τον ΑΜ.\n",
    "- Το αρχείο της εργασίας πρέπει να τρέχει εξ ολοκλήρου (Run All) για να βαθμολογηθεί.\n"
   ]
  },
  {
   "cell_type": "markdown",
   "metadata": {},
   "source": []
  },
  {
   "cell_type": "code",
   "execution_count": 3,
   "metadata": {
    "tags": [
     "imports"
    ]
   },
   "outputs": [],
   "source": [
    "# Εισαγωγή μονάδων κώδικα\n",
    "# - Μην αλλάζετε αυτό το κελί.\n",
    "\n",
    "import numpy as np\n",
    "import matplotlib.pyplot as plt\n",
    "from scipy.interpolate import CubicSpline\n",
    "from scipy.interpolate import interp1d\n",
    "from scipy.optimize import bisect, newton\n"
   ]
  },
  {
   "cell_type": "code",
   "execution_count": 4,
   "metadata": {},
   "outputs": [],
   "source": [
    "# Στοιχεία φοιτητή\n",
    "# - Εισάγετε το όνομά σας με ελληνικούς χαρακτήρες.\n",
    "\n",
    "onoma = \"ΘΕΟΔΩΡΟΣ-ΚΟΣΜΑΣ\"\n",
    "eponymo = \"ΓΟΥΝΕΛΑΣ\"\n",
    "AM = 3121207\n"
   ]
  },
  {
   "cell_type": "markdown",
   "metadata": {},
   "source": [
    "### Άσκηση 1\n",
    "\n",
    "Από την [δυναμομέτρηση ενός κινητήρα εσωτερικής καύσης](https://www.sciencedirect.com/science/article/pii/S0263876213000853) προέκυψε ο παρακάτω πίνακας Ταχύτητας Περιστροφής ($Ν$)- Μέγιστης Ροπής ($τ$):\n",
    "\n",
    "|Ταχύτητα Περιστροφής [rpm]|Μέγιστη Ροπής  [Nm]|\n",
    "|---|---|\n",
    "|1000|$160.8+2a$|\n",
    "|1500|$249.4+2b$|\n",
    "|2000|$326.6+2c$|\n",
    "|2500|$313.3$|\n",
    "|3000|$198.8$|\n",
    "|3500|$199.6$|\n",
    "\n",
    "όπου a,b,c τα 3 τελευταία ψηφία του αριθμού μητρώου σας (c=τελευταίο). Η καμπύλη που ορίζεται από αυτά τα σημεία ονομάζεται και περιβάλλουσα.\n",
    "\n",
    "Γράψτε μια συνάρτηση με το όνομα `myfunction1` η οποία δέχεται ως είσοδο μία τιμή ταχύτητας περιστροφής $Ν_{in}$ και υπολογίζει στο σημείο αυτό την μέγιστη ροή του κινητήρα με\n",
    "\n",
    "1) γραμμική παρεμβολή ,\n",
    "2) παρεμβολή φυσικών κυβικών spline, \n",
    "3) παρεμβολή πολυώνυμου 5ου βαθμού και\n",
    "4) παλινδρόμηση πολυώνυμου 3ου βαθμού. \n",
    "\n",
    "Η συνάρτηση πρέπει να επιστρέφει ένα διάνυσμα $τ_{out}$ με τις αυτές τις 4 τιμές. Σε όλες τις περιπτώσεις πρέπει να επιστρέφει μηδενικές τιμές εκτός του πεδίου λειτουργίας του κινητήρα. \n",
    " \n",
    "Ελέγξτε τα αποτελέσματα της συνάρτησης για τις τιμές ταχύτητας περιστροφής:\n",
    "- 700 rpm\n",
    "- 1200 rpm\n",
    "- 2300 rpm"
   ]
  },
  {
   "cell_type": "code",
   "execution_count": 5,
   "metadata": {},
   "outputs": [],
   "source": [
    "a = int(str(AM)[-3])\n",
    "b = int(str(AM)[-2])\n",
    "c = int(str(AM)[-1])\n",
    "\n",
    "# Πίνακας με τα σημεία \n",
    "points = [(1000, 160.8+2*a), (1500, 249.4+2*b), (2000, 326.6+2*c), (2500, 313.3), (3000, 198.8), (3500, 199.6)]\n",
    "\n",
    "# Έλεγχος αν η τιμή είναι εντός του εύρους λειτουγίας του κινητήρα\n",
    "def in_range(Nin):\n",
    "    if Nin < points[0][0] or Nin > points[-1][0]:\n",
    "        return False\n",
    "    return True\n",
    "\n",
    "# Γραμική Παρεμβολή\n",
    "def linear_interpolation(Nin):\n",
    "    # Βρίσκουμε τα δύο σημέια στα οποία βρίσκεται η τιμή \n",
    "    # και υπολογίζουμε το αποτέλεσμα σύμφωνα με το τύπο y = (x - x₁) * (y₂ - y₁) / (x₂ - x₁) + y₁\n",
    "    for i in range(len(points)-1):\n",
    "        if Nin >= points[i][0] and Nin <= points[i+1][0]:\n",
    "            x1, y1 = points[i]\n",
    "            x2, y2 = points[i+1]\n",
    "            y = (Nin - x1) * (y2 - y1) / (x2 - x1) + y1\n",
    "            return y      \n",
    "    return -1\n",
    "\n",
    "# Κυβική Spline\n",
    "def cubic_spline(Nin):\n",
    "        x = [point[0] for point in points]\n",
    "        y = [point[1] for point in points]\n",
    "        # Δημιουργία αντικειμένου CubicSpline\n",
    "        cs = CubicSpline(x, y, bc_type='natural')\n",
    "\n",
    "        for i in range(len(points)-1):\n",
    "            if Nin >= points[i][0] and Nin <= points[i+1][0]:\n",
    "                return cs(Nin)    \n",
    "            \n",
    "        return -1\n",
    "\n",
    "# Παρεμβολή 5ου βαθμού\n",
    "def linear_interpolation_5th(Nin):\n",
    "    x = [point[0] for point in points]\n",
    "    y = [point[1] for point in points]\n",
    "    # Υπολογισμός την παρεμβολής πολυωνύμου 5ου βαθμού\n",
    "    poly_coeffs = np.polyfit(x, y, 5)\n",
    "    \n",
    "    # Υπολογισμός της τιμής του πολυωνύμου στο σημείο Nin\n",
    "    poly_value = np.polyval(poly_coeffs, Nin)\n",
    "    \n",
    "    return poly_value\n",
    "\n",
    "# Παρεμβολή 3ου βαθμού με παλινδρόμηση\n",
    "def linear_interpolation_with_regression(Nin):\n",
    "    x = [point[0] for point in points]\n",
    "    y = [point[1] for point in points]\n",
    "    \n",
    "    # Υπολογισμός των συντελεστών του πολυωνύμου 3ου βαθμού\n",
    "    poly_coeffs = np.polyfit(x, y, 3)\n",
    "    \n",
    "    # Υπολογισμός της τιμής του πολυωνύμου στο σημείο Nin\n",
    "    # Η παλινδρόμηση του πολυωνύμου γίνεται αυτόματα απο την np.polyval\n",
    "    poly_value = np.polyval(poly_coeffs, Nin)\n",
    "    \n",
    "    return poly_value \n",
    "\n",
    "def myfunction1(Nin):\n",
    "    result = []\n",
    "    if not in_range(Nin):\n",
    "        result = [0, 0, 0, 0]\n",
    "    else:\n",
    "        result.append(linear_interpolation(Nin))\n",
    "        result.append(float(cubic_spline(Nin)))\n",
    "        result.append(linear_interpolation_5th(Nin))\n",
    "        result.append(linear_interpolation_with_regression(Nin))\n",
    "    return result"
   ]
  },
  {
   "cell_type": "code",
   "execution_count": 6,
   "metadata": {
    "tags": [
     "worksheet"
    ]
   },
   "outputs": [
    {
     "name": "stdout",
     "output_type": "stream",
     "text": [
      "Nin : 700  -> [0, 0, 0, 0] \n",
      "Nin : 1200 -> [198.64000000000001, 195.9343157894737, 183.7786496000008, 219.54008888888916]\n",
      "Nin : 2500 -> [324.22, 342.08357894736844, 340.1125503999996, 305.8828952380952]\n"
     ]
    }
   ],
   "source": [
    "# Πρόχειρο άσκησης 1\n",
    "# - Σε αυτό το κελί μπορείτε να τυπώσετε μεταβλητές και να κάνετε γραφικές παραστάσεις για επαλήθευση. Δεν λαμβάνεται υπόψη στην βαθμολόγηση.\n",
    "print(f\"Nin : 700  -> {myfunction1(500)} \")\n",
    "print(f\"Nin : 1200 -> {myfunction1(1200)}\")\n",
    "print(f\"Nin : 2500 -> {myfunction1(2300)}\")\n"
   ]
  },
  {
   "cell_type": "markdown",
   "metadata": {},
   "source": [
    "### Άσκηση 2\n",
    "\n",
    "Η θερμοκρασία $Τ$ της επιφάνειας ενός θερμαντικού σώματος μπορεί να υπολογιστεί από το ισοζύγιο ενέργειας: \n",
    "\n",
    "$$\n",
    "\\dot{q}=h_c A (T-T_a)+σ ε Α (Τ^4-{Τ_s}^4)\n",
    "$$\n",
    "όπου οι θερμοκρασίες $Τ$ σε Kelvin.\n",
    "\n",
    "Γράψτε μια συνάρτηση `myfunction2` που δέχεται ως ορίσματα τα βαθμωτά μεγέθη $\\dot{q},h_c,A,Τ_a,σ,ε,Τ_s$ και επιστρέφει ένα διάνυσμα με τρεις τιμές θερμοκρασίας $Τ$ που αντιστοιχούν στην επίλυση της εξίσωσης με την μέθοδο:\n",
    "\n",
    "1) διχοτόμησης με όρια $300$ και $1000\\;Κ$.\n",
    "2) Newton-Raphson με αρχική τιμή $300\\;Κ$.\n",
    "3) τέμνουσας με αρχικές τιμές $300$ και $310\\;Κ$.\n",
    "\n",
    "Τα αποτελέσματα να υπολογιστούν με απόλυτη ακρίβεια $10^{-3}$ και να ελεγχθούν για τις σταθερές τιμές:\n",
    "- $h_c=5+0.5a\\; \\frac{W}{m^2K}$, συντελεστής συναγωγής,\n",
    "- $A=2-0.1b\\; m^2 $, επιφάνεια του θερμαντικού σώματος,\n",
    "- $Τ_a=273+18-0.5c\\; K$, θερμοκρασία αέρα του περιβάλλοντος χώρου,\n",
    "- $σ=5.67\\cdot 10^{-8} \\;\\frac{W}{m^2K^4}$, σταθερά Stefan-Boltzmann,\n",
    "- $ε=0.8$, ο συντελεστής εκπομπής,\n",
    "- $Τ_s =10\\; °C=10+273=283\\; K$, θερμοκρασία των επιφανειών του περιβάλλοντος χώρου\n",
    "\n",
    "και για την μεταβλητή τιμή:\n",
    "- $\\dot{q}= 500, 750, 1000 \\; W$, ηλεκτρική ισχύς.\n",
    "\n",
    "Η είσοδος και έξοδος τιμών να γίνεται στις μονάδες που δίνονται παραπάνω (θερμοκρασία σε Κ)."
   ]
  },
  {
   "cell_type": "code",
   "execution_count": 7,
   "metadata": {},
   "outputs": [],
   "source": [
    "# Λύση της άσκησης 2\n",
    "# - Σε αυτό το κελί γράψτε μόνο τις ζητούμενες συναρτήσεις χωρίς print και input.\n",
    "a = int(str(AM)[-3])\n",
    "b = int(str(AM)[-2])\n",
    "c = int(str(AM)[-1])\n",
    "\n",
    "def myfunction2(q, hc, A, Ta, sigma, epsilon, Ts):\n",
    "    # Define the function for which we are trying to find the roots\n",
    "    def f(T):\n",
    "        return q - hc * A * (T - Ta) - sigma * epsilon * A * (T**4 - Ts**4)\n",
    "\n",
    "    # Define the derivative of the function for Newton-Raphson method\n",
    "    def df(T):\n",
    "        return -hc * A - 4 * sigma * epsilon * A * T**3\n",
    "\n",
    "    # Bisection method\n",
    "    T1 = bisect(f, 300, 1000, xtol=1e-3)\n",
    "\n",
    "    # Newton-Raphson method\n",
    "    T2 = newton(f, 300, df, tol=1e-3)\n",
    "\n",
    "    # Secant method\n",
    "    T3 = newton(f, x0=300, x1=310, tol=1e-3)\n",
    "\n",
    "    return [T1, T2, T3]\n",
    "\n",
    "# Constants\n",
    "hc = 5 + 0.5 * a # W/m^2K\n",
    "A = 2 - 0.1 * b  # m^2\n",
    "Ta = 273 + 18 - 0.5 * c  # K\n",
    "sigma = 5.67e-8  # W/m^2K^4\n",
    "epsilon = 0.8\n",
    "Ts = 10 + 273  # K\n"
   ]
  },
  {
   "cell_type": "code",
   "execution_count": 8,
   "metadata": {
    "tags": [
     "worksheet"
    ]
   },
   "outputs": [
    {
     "name": "stdout",
     "output_type": "stream",
     "text": [
      "[308.8606834411621, 308.86081712169033, 308.86081709686107]\n",
      "[319.6072578430176, 319.60754208954154, 319.6075420905272]\n",
      "[329.84113693237305, 329.84152083179254, 329.8415209128245]\n"
     ]
    }
   ],
   "source": [
    "# Πρόχειρο άσκησης 2\n",
    "# - Σε αυτό το κελί μπορείτε να τυπώσετε μεταβλητές και να κάνετε γραφικές παραστάσεις για επαλήθευση. Δεν λαμβάνεται υπόψη στην βαθμολόγηση.\n",
    "\n",
    "# Variable values\n",
    "q_values = [500, 750, 1000]  # W\n",
    "\n",
    "for q in q_values:\n",
    "    print(myfunction2(q, hc, A, Ta, sigma, epsilon, Ts))"
   ]
  }
 ],
 "metadata": {
  "kernelspec": {
   "display_name": "Python 3.10.12 64-bit",
   "language": "python",
   "name": "python3"
  },
  "language_info": {
   "codemirror_mode": {
    "name": "ipython",
    "version": 3
   },
   "file_extension": ".py",
   "mimetype": "text/x-python",
   "name": "python",
   "nbconvert_exporter": "python",
   "pygments_lexer": "ipython3",
   "version": "3.10.12"
  },
  "varInspector": {
   "cols": {
    "lenName": 16,
    "lenType": 16,
    "lenVar": 40
   },
   "kernels_config": {
    "python": {
     "delete_cmd_postfix": "",
     "delete_cmd_prefix": "del ",
     "library": "var_list.py",
     "varRefreshCmd": "print(var_dic_list())"
    },
    "r": {
     "delete_cmd_postfix": ") ",
     "delete_cmd_prefix": "rm(",
     "library": "var_list.r",
     "varRefreshCmd": "cat(var_dic_list()) "
    }
   },
   "types_to_exclude": [
    "module",
    "function",
    "builtin_function_or_method",
    "instance",
    "_Feature"
   ],
   "window_display": false
  },
  "vscode": {
   "interpreter": {
    "hash": "916dbcbb3f70747c44a77c7bcd40155683ae19c65e1c03b4aa3499c5328201f1"
   }
  }
 },
 "nbformat": 4,
 "nbformat_minor": 4
}
